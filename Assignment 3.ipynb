{
 "cells": [
  {
   "cell_type": "markdown",
   "id": "ab1a554c-2738-456d-90cf-90213c35fb04",
   "metadata": {},
   "source": [
    "## Question 1"
   ]
  },
  {
   "cell_type": "code",
   "execution_count": 4,
   "id": "2b84b2a0-16f1-4a10-8e01-894a13986e10",
   "metadata": {},
   "outputs": [
    {
     "name": "stdin",
     "output_type": "stream",
     "text": [
      "Enter your age:  19\n",
      "Enter your credit score:  750\n",
      "Enter your annual income:  30000\n"
     ]
    },
    {
     "name": "stdout",
     "output_type": "stream",
     "text": [
      "Eligible for loan\n"
     ]
    }
   ],
   "source": [
    "def check_loan_eligibility(age, credit_score, annual_income):\n",
    "    # Check if the person is eligible for a loan based on the given criteria\n",
    "    if age >= 18:\n",
    "        if credit_score >= 650:\n",
    "            if credit_score >= 700:\n",
    "                # If credit score is 700 or more, income must be at least 25000\n",
    "                if annual_income >= 25000:\n",
    "                    return \"Eligible for loan\"\n",
    "                else:\n",
    "                    return \"Not eligible: Income too low\"\n",
    "            else:\n",
    "                # If credit score is between 650 and 699, income must be at least 30000\n",
    "                if annual_income >= 30000:\n",
    "                    return \"Eligible for loan\"\n",
    "                else:\n",
    "                    return \"Not eligible: Income too low\"\n",
    "        else:\n",
    "            return \"Not eligible: Credit score too low\"\n",
    "    else:\n",
    "        return \"Not eligible: Age too low\"\n",
    "\n",
    "# Example of usage:\n",
    "age = int(input(\"Enter your age: \"))\n",
    "credit_score = int(input(\"Enter your credit score: \"))\n",
    "annual_income = float(input(\"Enter your annual income: \"))\n",
    "\n",
    "result = check_loan_eligibility(age, credit_score, annual_income)\n",
    "print(result)\n"
   ]
  },
  {
   "cell_type": "markdown",
   "id": "f650c2e3-64b8-4181-b1ae-54429fc54077",
   "metadata": {},
   "source": [
    "## Question 2"
   ]
  },
  {
   "cell_type": "code",
   "execution_count": 10,
   "id": "f89c2803-9b79-4bce-8561-944ee97358fd",
   "metadata": {},
   "outputs": [
    {
     "name": "stdin",
     "output_type": "stream",
     "text": [
      "Enter your age:  19\n",
      "Enter your years of experience:  11\n"
     ]
    },
    {
     "name": "stdout",
     "output_type": "stream",
     "text": [
      "You have a lot of experience.\n"
     ]
    }
   ],
   "source": [
    "def check_experience(age):\n",
    "    if age < 18:\n",
    "        print(\"You are underage.\")\n",
    "    else:\n",
    "        # Person is an adult, ask for years of experience\n",
    "        years_of_experience = int(input(\"Enter your years of experience: \"))\n",
    "        \n",
    "        # Check experience levels\n",
    "        if years_of_experience >= 10:\n",
    "            print(\"You have a lot of experience.\")\n",
    "        elif years_of_experience >= 5:\n",
    "            print(\"You have moderate experience.\")\n",
    "        elif years_of_experience >= 2:\n",
    "            print(\"You are relatively new.\")\n",
    "        else:\n",
    "            print(\"You are just starting out.\")\n",
    "\n",
    "# Example of usage\n",
    "age = int(input(\"Enter your age: \"))\n",
    "check_experience(age)\n"
   ]
  },
  {
   "cell_type": "markdown",
   "id": "b038a552-68a0-40b7-9090-3f24ef639a10",
   "metadata": {},
   "source": [
    "## Question 3"
   ]
  },
  {
   "cell_type": "code",
   "execution_count": 13,
   "id": "ce61e964-c474-4ff8-9b3b-c140a348f9a6",
   "metadata": {},
   "outputs": [
    {
     "name": "stdout",
     "output_type": "stream",
     "text": [
      "Memory address of var1 (int): 140710117977816\n",
      "Memory address of var2 (int): 140710117977816\n",
      "Memory address of var3 (float): 1800876216144\n",
      "Memory address of var4 (str): 1800876414192\n",
      "Memory address of var5 (list): 1800876413184\n",
      "Memory address of var6 (dict): 1800876418688\n",
      "\n",
      "Memory sizes of variables (in bytes):\n",
      "var1 (<class 'int'>): 28 bytes\n",
      "var2 (<class 'int'>): 28 bytes\n",
      "var3 (<class 'float'>): 24 bytes\n",
      "var4 (<class 'str'>): 54 bytes\n",
      "var5 (<class 'list'>): 88 bytes\n",
      "var6 (<class 'dict'>): 184 bytes\n",
      "\n",
      "The variable with the least memory size is var3 of type <class 'float'> with 24 bytes.\n"
     ]
    }
   ],
   "source": [
    "import sys\n",
    "\n",
    "def explore_variables():\n",
    "    # List of different variables with same and different values\n",
    "    var1 = 42\n",
    "    var2 = 42  # Same value as var1, check if memory address is the same\n",
    "    var3 = 3.14\n",
    "    var4 = \"Hello, World!\"\n",
    "    var5 = [1, 2, 3, 4]\n",
    "    var6 = {\"key\": \"value\"}\n",
    "    \n",
    "    # List to store memory sizes\n",
    "    memory_sizes = []\n",
    "    \n",
    "    # Print memory addresses\n",
    "    print(f\"Memory address of var1 (int): {id(var1)}\")\n",
    "    print(f\"Memory address of var2 (int): {id(var2)}\")\n",
    "    print(f\"Memory address of var3 (float): {id(var3)}\")\n",
    "    print(f\"Memory address of var4 (str): {id(var4)}\")\n",
    "    print(f\"Memory address of var5 (list): {id(var5)}\")\n",
    "    print(f\"Memory address of var6 (dict): {id(var6)}\")\n",
    "    \n",
    "    # Store memory sizes along with variable names and types\n",
    "    memory_sizes.append(('var1', type(var1), sys.getsizeof(var1)))\n",
    "    memory_sizes.append(('var2', type(var2), sys.getsizeof(var2)))\n",
    "    memory_sizes.append(('var3', type(var3), sys.getsizeof(var3)))\n",
    "    memory_sizes.append(('var4', type(var4), sys.getsizeof(var4)))\n",
    "    memory_sizes.append(('var5', type(var5), sys.getsizeof(var5)))\n",
    "    memory_sizes.append(('var6', type(var6), sys.getsizeof(var6)))\n",
    "    \n",
    "    # Print memory sizes\n",
    "    print(\"\\nMemory sizes of variables (in bytes):\")\n",
    "    for var_name, var_type, size in memory_sizes:\n",
    "        print(f\"{var_name} ({var_type}): {size} bytes\")\n",
    "    \n",
    "    # Find the data type with the least memory size\n",
    "    least_memory_variable = min(memory_sizes, key=lambda x: x[2])\n",
    "    print(f\"\\nThe variable with the least memory size is {least_memory_variable[0]} of type {least_memory_variable[1]} with {least_memory_variable[2]} bytes.\")\n",
    "\n",
    "# Run the function\n",
    "explore_variables()\n"
   ]
  },
  {
   "cell_type": "markdown",
   "id": "9bb33d40-b11d-4cdb-83e8-2d5297d376d6",
   "metadata": {},
   "source": [
    "## Question 4"
   ]
  },
  {
   "cell_type": "code",
   "execution_count": 16,
   "id": "e6c53f1b-e58e-4081-a01b-14d09fda664f",
   "metadata": {},
   "outputs": [
    {
     "name": "stdin",
     "output_type": "stream",
     "text": [
      "Enter your email address:  saadhabib220703@gmail.com\n"
     ]
    },
    {
     "name": "stdout",
     "output_type": "stream",
     "text": [
      "Email format is valid.\n"
     ]
    }
   ],
   "source": [
    "def check_email_format():\n",
    "    # Ask user to input an email address\n",
    "    email = input(\"Enter your email address: \")\n",
    "    \n",
    "    # Check if the email contains '@' and '.'\n",
    "    if '@' in email and '.' in email:\n",
    "        print(\"Email format is valid.\")\n",
    "    else:\n",
    "        print(\"Invalid email format.\")\n",
    "\n",
    "# Run the function\n",
    "check_email_format()\n"
   ]
  },
  {
   "cell_type": "markdown",
   "id": "72929a00-d32a-44e3-b2d2-ed93ae310e94",
   "metadata": {},
   "source": [
    "## Question 5"
   ]
  },
  {
   "cell_type": "code",
   "execution_count": 19,
   "id": "d2ee7a9f-cdd4-4346-8415-1e91d0d5828d",
   "metadata": {},
   "outputs": [
    {
     "name": "stdout",
     "output_type": "stream",
     "text": [
      "Data types of tuple elements: [<class 'int'>, <class 'float'>, <class 'str'>, <class 'list'>, <class 'tuple'>]\n"
     ]
    }
   ],
   "source": [
    "def tuple_data_types():\n",
    "    # Define the tuple\n",
    "    x = (11, 22.333, 'apple', [1, 2, 3], ('a', 'b'))\n",
    "    \n",
    "    # List to store the data types\n",
    "    data_types = []\n",
    "    \n",
    "    # Iterate over each element in the tuple\n",
    "    for element in x:\n",
    "        # Append the type of each element to the list\n",
    "        data_types.append(type(element))\n",
    "    \n",
    "    # Show the final list of data types\n",
    "    print(\"Data types of tuple elements:\", data_types)\n",
    "\n",
    "# Run the function\n",
    "tuple_data_types()\n"
   ]
  },
  {
   "cell_type": "markdown",
   "id": "bf410308-81cd-441e-b3b4-1cf22d543266",
   "metadata": {},
   "source": [
    "## Question 6"
   ]
  },
  {
   "cell_type": "code",
   "execution_count": 26,
   "id": "e41cb881-b3df-4062-b2a9-310d593c0bb8",
   "metadata": {},
   "outputs": [
    {
     "name": "stdin",
     "output_type": "stream",
     "text": [
      "Enter a username to check:  alice\n"
     ]
    },
    {
     "name": "stdout",
     "output_type": "stream",
     "text": [
      "User 'alice' found in the active users list.\n",
      "User 'alice' is the admin.\n"
     ]
    }
   ],
   "source": [
    "def check_user(username):\n",
    "    # List of tuples with usernames and roles\n",
    "    active_users = [\n",
    "        (\"alice\", \"admin\"),\n",
    "        (\"bob\", \"user\"),\n",
    "        (\"charlie\", \"moderator\")\n",
    "    ]\n",
    "    \n",
    "    # Check if the username exists in the list of active users\n",
    "    user_found = any(user[0] == username for user in active_users)\n",
    "    \n",
    "    # Verify if the user is an admin using identity operators\n",
    "    admin_user = (\"alice\", \"admin\")\n",
    "    \n",
    "    if user_found:\n",
    "        print(f\"User '{username}' found in the active users list.\")\n",
    "        # Check if the user is the admin\n",
    "        for user in active_users:\n",
    "            if user[0] == username:\n",
    "                if user is admin_user:\n",
    "                    print(f\"User '{username}' is the admin.\")\n",
    "                else:\n",
    "                    print(f\"User '{username}' is not the admin.\")\n",
    "                break\n",
    "    else:\n",
    "        print(f\"User '{username}' not found in the active users list.\")\n",
    "\n",
    "# Test the function\n",
    "username_input = input(\"Enter a username to check: \")\n",
    "check_user(username_input)\n"
   ]
  },
  {
   "cell_type": "markdown",
   "id": "f87817f4-f44b-4eaf-90d9-3986e1e1e710",
   "metadata": {},
   "source": [
    "## Question 7"
   ]
  },
  {
   "cell_type": "code",
   "execution_count": 32,
   "id": "30193e6a-a67b-492d-b858-444dbe9fd35c",
   "metadata": {},
   "outputs": [
    {
     "name": "stdout",
     "output_type": "stream",
     "text": [
      "Person1 and Person2 are Siblings.\n",
      "Person1 and Person3 are Cousins.\n"
     ]
    }
   ],
   "source": [
    "def check_relation(person1_data, person2_data, person3_data):\n",
    "    # Check if person1 and person2 have the same family data (siblings)\n",
    "    if person1_data is person2_data:\n",
    "        print(\"Person1 and Person2 are Siblings.\")\n",
    "    else:\n",
    "        print(\"Person1 and Person2 are not Siblings.\")\n",
    "\n",
    "    # Check if person1 and person3 are cousins (different family data)\n",
    "    if person1_data is not person3_data:\n",
    "        print(\"Person1 and Person3 are Cousins.\")\n",
    "    else:\n",
    "        print(\"Person1 and Person3 are not Cousins.\")\n",
    "\n",
    "# Example data for each person (representing family data)\n",
    "person1_family_data = ['John', 'Mary', 'New York', '123']\n",
    "person2_family_data = person1_family_data  # Same data for sibling\n",
    "person3_family_data = ['John', 'Anne', 'Los Angeles', '456']  # Different data for cousin\n",
    "\n",
    "# Check relations between person1, person2, and person3\n",
    "check_relation(person1_family_data, person2_family_data, person3_family_data)\n"
   ]
  },
  {
   "cell_type": "markdown",
   "id": "852ad115-2ced-4fd8-8c2c-56b97d948c5f",
   "metadata": {},
   "source": [
    "## Question 8"
   ]
  },
  {
   "cell_type": "code",
   "execution_count": 35,
   "id": "cfea00b5-42c9-44c6-8595-7b99d42e630e",
   "metadata": {},
   "outputs": [
    {
     "name": "stdin",
     "output_type": "stream",
     "text": [
      "Enter the book's title:  Python 101\n",
      "Enter the book's author:  Saad\n",
      "Enter the year of publication:  2024\n",
      "Enter the book's price:  150\n"
     ]
    },
    {
     "name": "stdout",
     "output_type": "stream",
     "text": [
      "\n",
      "Stored Book Information:\n",
      "Title: Python 101\n",
      "Author: Saad\n",
      "Year of Publication: 2024\n",
      "Price: $150\n"
     ]
    }
   ],
   "source": [
    "def store_and_display_book():\n",
    "    # Ask the user for book details\n",
    "    title = input(\"Enter the book's title: \")\n",
    "    author = input(\"Enter the book's author: \")\n",
    "    year = input(\"Enter the year of publication: \")\n",
    "    price = input(\"Enter the book's price: \")\n",
    "\n",
    "    # Create a tuple to store the book details\n",
    "    book_details = (title, author, year, price)\n",
    "\n",
    "    # Display the stored book information\n",
    "    print(\"\\nStored Book Information:\")\n",
    "    print(f\"Title: {book_details[0]}\")\n",
    "    print(f\"Author: {book_details[1]}\")\n",
    "    print(f\"Year of Publication: {book_details[2]}\")\n",
    "    print(f\"Price: ${book_details[3]}\")\n",
    "\n",
    "# Call the function to execute\n",
    "store_and_display_book()\n"
   ]
  },
  {
   "cell_type": "markdown",
   "id": "30b24c7a-ccc5-454d-8d11-c0f257702f75",
   "metadata": {},
   "source": [
    "## Question 9"
   ]
  },
  {
   "cell_type": "code",
   "execution_count": 40,
   "id": "1d810521-b94a-4784-a746-abe53aa901d3",
   "metadata": {},
   "outputs": [
    {
     "name": "stdin",
     "output_type": "stream",
     "text": [
      "Enter the subject you are looking for:  english\n"
     ]
    },
    {
     "name": "stdout",
     "output_type": "stream",
     "text": [
      "Sorry, the subject 'english' is not available.\n"
     ]
    }
   ],
   "source": [
    "# List of offered subjects\n",
    "offered_subjects = [\"Math\", \"Science\", \"English\", \"History\", \"Geography\", \"Physics\", \"Chemistry\", \"Biology\"]\n",
    "\n",
    "# Ask the user to input a subject\n",
    "user_subject = input(\"Enter the subject you are looking for: \").strip()\n",
    "\n",
    "# Check if the subject is available\n",
    "if user_subject in offered_subjects:\n",
    "    print(f\"The subject '{user_subject}' is available.\")\n",
    "else:\n",
    "    print(f\"Sorry, the subject '{user_subject}' is not available.\")\n"
   ]
  },
  {
   "cell_type": "markdown",
   "id": "5a45df05-113f-45ec-a130-f17cb0c7ec96",
   "metadata": {},
   "source": [
    "## Question 10"
   ]
  },
  {
   "cell_type": "code",
   "execution_count": 43,
   "id": "d3d9bd3a-f16f-4c5d-98b2-9ebe6c3050f1",
   "metadata": {},
   "outputs": [
    {
     "name": "stdout",
     "output_type": "stream",
     "text": [
      "Tuple of numbers: (1, 5, 3, 8, 5, 9, 3, 5, 6, 8, 5)\n"
     ]
    },
    {
     "name": "stdin",
     "output_type": "stream",
     "text": [
      "Enter a number to find its first occurrence in the tuple:  5\n"
     ]
    },
    {
     "name": "stdout",
     "output_type": "stream",
     "text": [
      "The first occurrence of 5 is at index 1.\n"
     ]
    },
    {
     "name": "stdin",
     "output_type": "stream",
     "text": [
      "Enter another number to count its occurrences in the tuple:  8\n"
     ]
    },
    {
     "name": "stdout",
     "output_type": "stream",
     "text": [
      "The number 8 appears 2 times in the tuple.\n"
     ]
    }
   ],
   "source": [
    "# Create a tuple with multiple integer values, including duplicates\n",
    "numbers = (1, 5, 3, 8, 5, 9, 3, 5, 6, 8, 5)\n",
    "\n",
    "# Display the tuple\n",
    "print(\"Tuple of numbers:\", numbers)\n",
    "\n",
    "# Prompt the user to input a number and find its first occurrence\n",
    "try:\n",
    "    first_number = int(input(\"Enter a number to find its first occurrence in the tuple: \"))\n",
    "    if first_number in numbers:\n",
    "        index = numbers.index(first_number)\n",
    "        print(f\"The first occurrence of {first_number} is at index {index}.\")\n",
    "    else:\n",
    "        print(f\"The number {first_number} is not in the tuple.\")\n",
    "except ValueError:\n",
    "    print(\"Please enter a valid integer.\")\n",
    "\n",
    "# Ask the user for another number and count its occurrences\n",
    "try:\n",
    "    second_number = int(input(\"Enter another number to count its occurrences in the tuple: \"))\n",
    "    count = numbers.count(second_number)\n",
    "    print(f\"The number {second_number} appears {count} times in the tuple.\")\n",
    "except ValueError:\n",
    "    print(\"Please enter a valid integer.\")\n"
   ]
  },
  {
   "cell_type": "code",
   "execution_count": null,
   "id": "87156ed1-8320-49a5-a860-64adf15c8b0a",
   "metadata": {},
   "outputs": [],
   "source": []
  }
 ],
 "metadata": {
  "kernelspec": {
   "display_name": "Python 3 (ipykernel)",
   "language": "python",
   "name": "python3"
  },
  "language_info": {
   "codemirror_mode": {
    "name": "ipython",
    "version": 3
   },
   "file_extension": ".py",
   "mimetype": "text/x-python",
   "name": "python",
   "nbconvert_exporter": "python",
   "pygments_lexer": "ipython3",
   "version": "3.12.7"
  }
 },
 "nbformat": 4,
 "nbformat_minor": 5
}
